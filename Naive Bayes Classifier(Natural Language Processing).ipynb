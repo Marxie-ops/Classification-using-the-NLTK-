{
 "cells": [
  {
   "cell_type": "code",
   "execution_count": 2,
   "id": "bf967d22-fc86-4f09-8deb-876eab62ae18",
   "metadata": {},
   "outputs": [
    {
     "name": "stdout",
     "output_type": "stream",
     "text": [
      "Requirement already satisfied: nltk in c:\\users\\pc\\anaconda3\\lib\\site-packages (3.8.1)\n",
      "Requirement already satisfied: click in c:\\users\\pc\\anaconda3\\lib\\site-packages (from nltk) (8.1.7)\n",
      "Requirement already satisfied: joblib in c:\\users\\pc\\anaconda3\\lib\\site-packages (from nltk) (1.2.0)\n",
      "Requirement already satisfied: regex>=2021.8.3 in c:\\users\\pc\\anaconda3\\lib\\site-packages (from nltk) (2023.10.3)\n",
      "Requirement already satisfied: tqdm in c:\\users\\pc\\anaconda3\\lib\\site-packages (from nltk) (4.65.0)\n",
      "Requirement already satisfied: colorama in c:\\users\\pc\\anaconda3\\lib\\site-packages (from click->nltk) (0.4.6)\n",
      "Note: you may need to restart the kernel to use updated packages.\n"
     ]
    }
   ],
   "source": [
    "pip install nltk"
   ]
  },
  {
   "cell_type": "code",
   "execution_count": 78,
   "id": "d704b748-4c74-4050-9629-3dbc12210007",
   "metadata": {},
   "outputs": [],
   "source": [
    "import pandas as pd\n",
    "import numpy as np\n",
    "from sklearn.model_selection import train_test_split\n",
    "from sklearn.feature_extraction.text import TfidfVectorizer\n",
    "from sklearn.naive_bayes import MultinomialNB\n",
    "from sklearn.metrics import accuracy_score, classification_report, confusion_matrix\n",
    "import nltk\n",
    "import string\n",
    "from nltk.corpus import stopwords\n",
    "import csv"
   ]
  },
  {
   "cell_type": "code",
   "execution_count": 84,
   "id": "bb2acfe4-7426-4c6b-ab6a-e2ba62b7a92c",
   "metadata": {},
   "outputs": [
    {
     "name": "stdout",
     "output_type": "stream",
     "text": [
      "    ham  \\\n",
      "0   ham   \n",
      "1  spam   \n",
      "2   ham   \n",
      "3   ham   \n",
      "4  spam   \n",
      "\n",
      "  Go until jurong point, crazy.. Available only in bugis n great world la e buffet... Cine there got amore wat...  \n",
      "0                      Ok lar... Joking wif u oni...                                                               \n",
      "1  Free entry in 2 a wkly comp to win FA Cup fina...                                                               \n",
      "2  U dun say so early hor... U c already then say...                                                               \n",
      "3  Nah I don't think he goes to usf, he lives aro...                                                               \n",
      "4  FreeMsg Hey there darling it's been 3 week's n...                                                               \n"
     ]
    }
   ],
   "source": [
    "path = \"C:\\\\Users\\\\PC\\OneDrive\\\\Dokumente\\\\SMSSpamCollection\"\n",
    "#try:\n",
    "df = pd.read_csv(path, encoding='latin-1', sep = '\\t', on_bad_lines='skip')  # Adjust sep if necessary\n",
    "print(df.head())  # Display the first few rows of the DataFrame\n",
    "#except pd.errors.ParserError as e:\n",
    "    #print(f\"ParserError: {e}\")\n",
    "#except Exception as e:\n",
    "    #print(f\"An error occurred: {e}\")"
   ]
  },
  {
   "cell_type": "code",
   "execution_count": 86,
   "id": "4a2ea5b5-42c6-448f-9942-576a0fb0a533",
   "metadata": {},
   "outputs": [
    {
     "data": {
      "text/plain": [
       "Index(['label', 'message'], dtype='object')"
      ]
     },
     "execution_count": 86,
     "metadata": {},
     "output_type": "execute_result"
    }
   ],
   "source": [
    "df.columns = [\"label\", \"message\"]\n",
    "df.columns"
   ]
  },
  {
   "cell_type": "code",
   "execution_count": 88,
   "id": "1a00031e-d1b8-4c79-a1d7-4a3bbd20cd5e",
   "metadata": {},
   "outputs": [
    {
     "data": {
      "text/plain": [
       "label\n",
       "ham     4824\n",
       "spam     747\n",
       "Name: count, dtype: int64"
      ]
     },
     "execution_count": 88,
     "metadata": {},
     "output_type": "execute_result"
    }
   ],
   "source": [
    "pd.set_option(\"display.max_rows\", None)\n",
    "df['label'].value_counts()"
   ]
  },
  {
   "cell_type": "code",
   "execution_count": 90,
   "id": "1890d4d5-4fe0-453c-9141-dba8b0699980",
   "metadata": {},
   "outputs": [
    {
     "name": "stderr",
     "output_type": "stream",
     "text": [
      "[nltk_data] Downloading package stopwords to\n",
      "[nltk_data]     C:\\Users\\PC\\AppData\\Roaming\\nltk_data...\n",
      "[nltk_data]   Package stopwords is already up-to-date!\n"
     ]
    }
   ],
   "source": [
    "nltk.download('stopwords')\n",
    "stop_words = set(stopwords.words('english'))\n",
    "\n",
    "def clean_text(text):\n",
    "    if not isinstance(text, str):  # Check if the input is a string\n",
    "        return ''  # Return an empty string for non-string inputs\n",
    "    text = text.lower()  # Convert to lowercase\n",
    "    text = ''.join([char for char in text if char not in string.punctuation])  # Remove punctuation\n",
    "    text = [word for word in text.split() if word not in stop_words]  # Remove stopwords\n",
    "    return ' '.join(text)  # Join the cleaned words back into a single string\n",
    "\n",
    "df['message'] = df['message'].apply(clean_text)"
   ]
  },
  {
   "cell_type": "code",
   "execution_count": 92,
   "id": "18ed9d4a-98d3-44bf-a47d-bdd6234b4df9",
   "metadata": {},
   "outputs": [],
   "source": [
    "# Initialize the TF-IDF Vectorizer\n",
    "vectorizer = TfidfVectorizer(max_features=3000)\n",
    "\n",
    "# Transform the messages into vectors\n",
    "X = vectorizer.fit_transform(df['message']).toarray()\n",
    "\n",
    "# Encode the labels: ham -> 0, spam -> 1\n",
    "y = pd.get_dummies(df['label'], drop_first=True).values.ravel()\n",
    "\n",
    "# Split the data into training and testing sets (80% train, 20% test)\n",
    "X_train, X_test, y_train, y_test = train_test_split(X, y, test_size=0.2, random_state=42)"
   ]
  },
  {
   "cell_type": "code",
   "execution_count": 94,
   "id": "ebbc3923-1442-4f3f-bbe8-50f4021fe9b5",
   "metadata": {},
   "outputs": [],
   "source": [
    "# Initialize the Naive Bayes classifier\n",
    "model = MultinomialNB()\n",
    "\n",
    "# Train the model on the training data\n",
    "model.fit(X_train, y_train)\n",
    "\n",
    "# Make predictions on the test set\n",
    "y_pred = model.predict(X_test)"
   ]
  },
  {
   "cell_type": "code",
   "execution_count": 96,
   "id": "5382639b-2d2b-42d2-9a67-713b223bcd01",
   "metadata": {},
   "outputs": [
    {
     "name": "stdout",
     "output_type": "stream",
     "text": [
      "Accuracy: 98.12%\n",
      "Classification Report:\n",
      "               precision    recall  f1-score   support\n",
      "\n",
      "       False       0.98      1.00      0.99       955\n",
      "        True       1.00      0.87      0.93       160\n",
      "\n",
      "    accuracy                           0.98      1115\n",
      "   macro avg       0.99      0.93      0.96      1115\n",
      "weighted avg       0.98      0.98      0.98      1115\n",
      "\n",
      "Confusion Matrix:\n",
      " [[955   0]\n",
      " [ 21 139]]\n"
     ]
    }
   ],
   "source": [
    "# Accuracy\n",
    "accuracy = accuracy_score(y_test, y_pred)\n",
    "print(f\"Accuracy: {accuracy * 100:.2f}%\")\n",
    "\n",
    "# Detailed classification report\n",
    "print(\"Classification Report:\\n\", classification_report(y_test, y_pred))\n",
    "\n",
    "# Confusion matrix\n",
    "conf_matrix = confusion_matrix(y_test, y_pred)\n",
    "print(\"Confusion Matrix:\\n\", conf_matrix)"
   ]
  },
  {
   "cell_type": "code",
   "execution_count": 112,
   "id": "c73e9d4b-01d6-43be-b6a4-62b4b04aaf41",
   "metadata": {},
   "outputs": [
    {
     "data": {
      "text/plain": [
       "<Axes: >"
      ]
     },
     "execution_count": 112,
     "metadata": {},
     "output_type": "execute_result"
    },
    {
     "data": {
      "image/png": "[encoded data removed]",
      "text/plain": [
       "<Figure size 640x480 with 2 Axes>"
      ]
     },
     "metadata": {},
     "output_type": "display_data"
    }
   ],
   "source": [
    "import seaborn as sns\n",
    "sns.heatmap(conf_matrix, annot = True)"
   ]
  },
  {
   "cell_type": "code",
   "execution_count": 104,
   "id": "c4378a10-2e60-443c-9b6f-54aa759a7898",
   "metadata": {},
   "outputs": [
    {
     "name": "stdout",
     "output_type": "stream",
     "text": [
      "Top 10 spam words: [(-4.815514378287279, 'call'), (-5.08374242443187, 'free'), (-5.422054729101539, 'txt'), (-5.470152313925235, 'mobile'), (-5.4782017794059135, 'stop'), (-5.535683805622681, 'claim'), (-5.566636036098614, 'text'), (-5.681234745652097, 'prize'), (-5.685527254232548, 'ur'), (-5.70371246003332, 'reply')]\n"
     ]
    }
   ],
   "source": [
    "# Get the features and their corresponding coefficients\n",
    "feature_names = vectorizer.get_feature_names_out()\n",
    "\n",
    "# Get the log probabilities of the features for each class\n",
    "spam_log_prob = model.feature_log_prob_[1]  # Class 1 typically represents spam in binary classification\n",
    "ham_log_prob = model.feature_log_prob_[0]   # Class 0 typically represents ham\n",
    "spam_words = sorted(zip(spam_log_prob, feature_names), reverse=True)\n",
    "\n",
    "# Print the top 10 most indicative words for spam\n",
    "print(\"Top 10 spam words:\", spam_words[:10])"
   ]
  },
  {
   "cell_type": "code",
   "execution_count": 116,
   "id": "ea82eb55-5961-4210-b830-6922256d9169",
   "metadata": {},
   "outputs": [
    {
     "data": {
      "image/png": "[encoded data removed]",
      "text/plain": [
       "<Figure size 1000x600 with 1 Axes>"
      ]
     },
     "metadata": {},
     "output_type": "display_data"
    }
   ],
   "source": [
    "import seaborn as sns\n",
    "import matplotlib.pyplot as plt\n",
    "\n",
    "# Convert your top spam words into a DataFrame for plotting\n",
    "import pandas as pd\n",
    "\n",
    "# Assuming spam_words is a list of tuples (log_prob_value, word)\n",
    "top_spam_words = spam_words[:10]\n",
    "\n",
    "# Create a DataFrame from the top 10 words\n",
    "df_spam_words = pd.DataFrame(top_spam_words, columns=['Log Probability', 'Word'])\n",
    "\n",
    "# Plot using seaborn barplot, and adjust the orientation to horizontal\n",
    "plt.figure(figsize=(10, 6))\n",
    "sns.barplot(x='Log Probability', y='Word', data=df_spam_words, palette='viridis')\n",
    "\n",
    "# Show the plot\n",
    "plt.title('Top 10 Indicative Spam Words')\n",
    "plt.show()"
   ]
  },
  {
   "cell_type": "code",
   "execution_count": null,
   "id": "850b4a45-58df-41a8-baf3-81e904251a61",
   "metadata": {},
   "outputs": [],
   "source": []
  },
  {
   "cell_type": "code",
   "execution_count": null,
   "id": "8b3f1a17-a4b4-47c2-9bb2-8fad0885e6c0",
   "metadata": {},
   "outputs": [],
   "source": []
  },
  {
   "cell_type": "code",
   "execution_count": null,
   "id": "6b88619d-5526-4f66-9575-b78435d2a617",
   "metadata": {},
   "outputs": [],
   "source": []
  },
  {
   "cell_type": "code",
   "execution_count": null,
   "id": "d9bc4095-836c-4263-9dda-4f7e867e3271",
   "metadata": {},
   "outputs": [],
   "source": []
  },
  {
   "cell_type": "code",
   "execution_count": null,
   "id": "7f1951a8-f65b-42a7-8cbf-81f153ffe7f7",
   "metadata": {},
   "outputs": [],
   "source": []
  },
  {
   "cell_type": "code",
   "execution_count": null,
   "id": "a50c7133-f6a9-45f2-b802-361412d0f861",
   "metadata": {},
   "outputs": [],
   "source": []
  },
  {
   "cell_type": "code",
   "execution_count": null,
   "id": "9ece2f3e-4f9a-456e-9435-eabaac2685ac",
   "metadata": {},
   "outputs": [],
   "source": []
  },
  {
   "cell_type": "code",
   "execution_count": null,
   "id": "5efc9805-8e49-4313-b7c0-7ceecbdd8413",
   "metadata": {},
   "outputs": [],
   "source": []
  },
  {
   "cell_type": "code",
   "execution_count": null,
   "id": "76fa249a-c682-4318-95f7-1635835f6b82",
   "metadata": {},
   "outputs": [],
   "source": []
  },
  {
   "cell_type": "code",
   "execution_count": null,
   "id": "e90f2ba8-98ca-4a11-b75a-1ca1b5ad5d49",
   "metadata": {},
   "outputs": [],
   "source": []
  },
  {
   "cell_type": "code",
   "execution_count": null,
   "id": "8b6c4646-800f-4153-aa51-5f57c5b41268",
   "metadata": {},
   "outputs": [],
   "source": []
  },
  {
   "cell_type": "code",
   "execution_count": null,
   "id": "a39def76-f355-4e44-a3a7-451369cbe13f",
   "metadata": {},
   "outputs": [],
   "source": []
  },
  {
   "cell_type": "code",
   "execution_count": null,
   "id": "edc5c92b-3b15-42a3-abe0-1ee9efec1c1a",
   "metadata": {},
   "outputs": [],
   "source": []
  },
  {
   "cell_type": "code",
   "execution_count": null,
   "id": "960a358b-2b19-4d43-a71b-5d83da95bf83",
   "metadata": {},
   "outputs": [],
   "source": []
  },
  {
   "cell_type": "code",
   "execution_count": null,
   "id": "67365f51-811d-4fbf-a127-51c42b53a5f0",
   "metadata": {},
   "outputs": [],
   "source": []
  },
  {
   "cell_type": "code",
   "execution_count": null,
   "id": "7790794a-a47d-4f2e-8227-e78471b88096",
   "metadata": {},
   "outputs": [],
   "source": []
  },
  {
   "cell_type": "code",
   "execution_count": null,
   "id": "3085b9bb-82b8-4ff3-b561-66e92172df50",
   "metadata": {},
   "outputs": [],
   "source": []
  },
  {
   "cell_type": "code",
   "execution_count": null,
   "id": "e3869e67-d77e-4601-8fe7-4aee36239543",
   "metadata": {},
   "outputs": [],
   "source": []
  },
  {
   "cell_type": "code",
   "execution_count": null,
   "id": "ab67c134-6eb4-4b27-97f3-f2f4ce969d4d",
   "metadata": {},
   "outputs": [],
   "source": []
  },
  {
   "cell_type": "code",
   "execution_count": null,
   "id": "fc1b28db-0f52-4a5a-bb72-db8cb41c5c55",
   "metadata": {},
   "outputs": [],
   "source": []
  },
  {
   "cell_type": "code",
   "execution_count": null,
   "id": "58031671-1f4b-4e2a-bae7-fadad375e36a",
   "metadata": {},
   "outputs": [],
   "source": []
  },
  {
   "cell_type": "code",
   "execution_count": null,
   "id": "5ba1ebf2-f924-4289-931d-ea39daf4e3ac",
   "metadata": {},
   "outputs": [],
   "source": []
  }
 ],
 "metadata": {
  "kernelspec": {
   "display_name": "Python 3 (ipykernel)",
   "language": "python",
   "name": "python3"
  },
  "language_info": {
   "codemirror_mode": {
    "name": "ipython",
    "version": 3
   },
   "file_extension": ".py",
   "mimetype": "text/x-python",
   "name": "python",
   "nbconvert_exporter": "python",
   "pygments_lexer": "ipython3",
   "version": "3.11.7"
  }
 },
 "nbformat": 4,
 "nbformat_minor": 5
}
